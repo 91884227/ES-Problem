{
 "cells": [
  {
   "cell_type": "markdown",
   "metadata": {},
   "source": [
    "# importy tool"
   ]
  },
  {
   "cell_type": "code",
   "execution_count": 1,
   "metadata": {},
   "outputs": [],
   "source": [
    "import pandas as pd\n",
    "import numpy as np\n",
    "from tqdm import tqdm"
   ]
  },
  {
   "cell_type": "code",
   "execution_count": 2,
   "metadata": {},
   "outputs": [],
   "source": [
    "class class_OnePlusOne:\n",
    "    def __init__(self, Gamma_, \n",
    "                 Parent_ = [1, 1, 1, 1, 1, 1, 1, 1, 1, 1], \n",
    "                 iteration_ = 10000000):\n",
    "        self.Gamma = Gamma_\n",
    "        self.Parent = Parent_\n",
    "        self.iteration = iteration_ \n",
    "        # self.child\n",
    "        \n",
    "    def fit_func(self, list_):\n",
    "        buf = [i**2 for i in list_]\n",
    "        return( sum(buf) )\n",
    "    \n",
    "    def mutation(self):\n",
    "        delta = np.random.normal(0, self.Gamma, len(self.Parent))\n",
    "        self.Child = list(delta + self.Parent)\n",
    "    \n",
    "    def selection(self):\n",
    "        if( self.fit_func(self.Child) <  self.fit_func(self.Parent) ):\n",
    "            self.Parent = self.Child\n",
    "        \n",
    "    def Minimization(self):\n",
    "        for i in tqdm(range(self.iteration)):\n",
    "            if( self.fit_func(self.Parent) < 0.005):\n",
    "                break\n",
    "            self.mutation()\n",
    "            self.selection()\n",
    "        self.result = self.Parent\n",
    "        self.result_fit = self.fit_func(self.Parent)\n",
    "        self.time = i"
   ]
  },
  {
   "cell_type": "code",
   "execution_count": 3,
   "metadata": {},
   "outputs": [],
   "source": [
    "# test = ES(0.01, iteration_ = 10000)\n",
    "\n",
    "# test.Minimization()\n",
    "\n",
    "# print(test.result)\n",
    "# print(test.result_fit)\n",
    "# print(test.time)"
   ]
  }
 ],
 "metadata": {
  "kernelspec": {
   "display_name": "Python 3",
   "language": "python",
   "name": "python3"
  },
  "language_info": {
   "codemirror_mode": {
    "name": "ipython",
    "version": 3
   },
   "file_extension": ".py",
   "mimetype": "text/x-python",
   "name": "python",
   "nbconvert_exporter": "python",
   "pygments_lexer": "ipython3",
   "version": "3.6.4"
  }
 },
 "nbformat": 4,
 "nbformat_minor": 2
}
