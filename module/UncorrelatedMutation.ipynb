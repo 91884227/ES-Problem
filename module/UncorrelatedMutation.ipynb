{
 "cells": [
  {
   "cell_type": "markdown",
   "metadata": {},
   "source": [
    "# import tool"
   ]
  },
  {
   "cell_type": "code",
   "execution_count": 1,
   "metadata": {},
   "outputs": [],
   "source": [
    "import pandas as pd\n",
    "import numpy as np\n",
    "from tqdm import tqdm\n",
    "import math"
   ]
  },
  {
   "cell_type": "markdown",
   "metadata": {},
   "source": [
    "# import self-define module"
   ]
  },
  {
   "cell_type": "code",
   "execution_count": 2,
   "metadata": {},
   "outputs": [],
   "source": [
    "from module.OnePlusOne import class_OnePlusOne"
   ]
  },
  {
   "cell_type": "code",
   "execution_count": 3,
   "metadata": {},
   "outputs": [],
   "source": [
    "class class_UncorrelatedMutation(class_OnePlusOne):\n",
    "    def __init__(self, Gamma_, \n",
    "                 Parent_ = [1, 1, 1, 1, 1, 1, 1, 1, 1, 1], \n",
    "                 iteration_ = 10000000):\n",
    "        super().__init__(Gamma_, Parent_, iteration_)\n",
    "        self.tao = 0.0002\n",
    "        self.taopron = 0.0003\n",
    "        self.epsilon = 0.001\n",
    "        self.epsilon_list = list(np.repeat(self.epsilon, len(self.Parent)))\n",
    "        self.Gamma_list = list(np.repeat(self.Gamma, len(self.Parent)))\n",
    "    \n",
    "    def mutation(self):\n",
    "        N_01 = np.random.normal(0, 1, 1)[0]\n",
    "        Ni_01 = np.random.normal(0, 1, 10)\n",
    "        buf = [self.Gamma_list[i]*math.exp(self.taopron*N_01 + self.tao*Ni_01[i]) \n",
    "               for i in range(len(self.Gamma_list))]\n",
    "        \n",
    "        self.Gamma_list = max(buf,  self.epsilon_list)\n",
    "        \n",
    "        self.Child = [self.Parent[i] + self.Gamma_list[i]*Ni_01[i] \n",
    "                      for i in range(len(self.Parent))]  \n",
    "        "
   ]
  },
  {
   "cell_type": "code",
   "execution_count": 4,
   "metadata": {},
   "outputs": [],
   "source": [
    "# for i in tqdm(range(1)):\n",
    "#     print(\"\\nRun %d Start:\" % (i+1))\n",
    "#     func = class_UncorrelatedMutation(0.1)\n",
    "#     func.Minimization()\n",
    "#     print(\"fit Parent: %s\" % func.result)\n",
    "#     print(\"fit value: %.6f\" % func.result_fit)\n",
    "#     print(\"iteration: %d\" % func.time)"
   ]
  },
  {
   "cell_type": "code",
   "execution_count": 5,
   "metadata": {},
   "outputs": [],
   "source": [
    "# Ni_01 = np.random.normal(0, 1, 10)\n",
    "\n",
    "# test = class_UncorrelatedMutation(1)\n",
    "\n",
    "# test.tao*Ni_01\n",
    "\n",
    "# N_01 = np.random.normal(0, 1, 1)[0]\n",
    "# Ni_01 = np.random.normal(0, 1, 10)\n",
    "\n",
    "# buf = [self.Gamma_list[i]*math.exp(self.taopron*N_01 + self.tao*Ni_01[i]) \n",
    "#  for i in range(len(self.Gamma_list))]\n",
    "\n",
    "# self.Gamma_list = max(buf,  self.epsilon_list)\n",
    "\n",
    "# self.Child = [self.Parent[i] + self.Gamma_list[i]*Ni_01[i] \n",
    "#  for i in range(len(self.Parent))]\n",
    "\n",
    "# test.Child"
   ]
  }
 ],
 "metadata": {
  "kernelspec": {
   "display_name": "Python 3",
   "language": "python",
   "name": "python3"
  },
  "language_info": {
   "codemirror_mode": {
    "name": "ipython",
    "version": 3
   },
   "file_extension": ".py",
   "mimetype": "text/x-python",
   "name": "python",
   "nbconvert_exporter": "python",
   "pygments_lexer": "ipython3",
   "version": "3.6.4"
  }
 },
 "nbformat": 4,
 "nbformat_minor": 2
}
