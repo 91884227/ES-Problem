{
 "cells": [
  {
   "cell_type": "markdown",
   "metadata": {},
   "source": [
    "# import tool"
   ]
  },
  {
   "cell_type": "code",
   "execution_count": 1,
   "metadata": {},
   "outputs": [],
   "source": [
    "import pandas as pd\n",
    "import numpy as np\n",
    "from tqdm import tqdm"
   ]
  },
  {
   "cell_type": "markdown",
   "metadata": {},
   "source": [
    "# import self-define tool"
   ]
  },
  {
   "cell_type": "code",
   "execution_count": 2,
   "metadata": {},
   "outputs": [],
   "source": [
    "from module.OneOne import class_OneOne"
   ]
  },
  {
   "cell_type": "markdown",
   "metadata": {},
   "source": [
    "#  sigma = 0.01"
   ]
  },
  {
   "cell_type": "code",
   "execution_count": 3,
   "metadata": {},
   "outputs": [
    {
     "name": "stderr",
     "output_type": "stream",
     "text": [
      "\r",
      "  0%|          | 0/10 [00:00<?, ?it/s]"
     ]
    },
    {
     "name": "stdout",
     "output_type": "stream",
     "text": [
      "\n",
      "Run 1 Start:\n"
     ]
    },
    {
     "name": "stderr",
     "output_type": "stream",
     "text": [
      "\r",
      " 10%|█         | 1/10 [02:20<21:07, 140.81s/it]"
     ]
    },
    {
     "name": "stdout",
     "output_type": "stream",
     "text": [
      "fit Parent: [29.424951526947172, -8.21690093448813, -49.252048881815234, 30.254256106093866, 9.116499895963269, 1.0302219171705902, -22.95171772563915, 6.316266678097807, 5.286815750055881, 51.71165377629111]\n",
      "fit value: 7627.323621\n",
      "iteration: 10000000\n",
      "\n",
      "Run 2 Start:\n"
     ]
    },
    {
     "name": "stderr",
     "output_type": "stream",
     "text": [
      "\r",
      " 20%|██        | 2/10 [04:42<18:47, 140.96s/it]"
     ]
    },
    {
     "name": "stdout",
     "output_type": "stream",
     "text": [
      "fit Parent: [-20.861693246362112, 8.641039179937529, 42.59137692619996, 62.94458156528847, -5.162858517454022, 0.006007345780474266, 8.088653001901, -59.474543350668746, 16.661084967443923, 21.11758315265636]\n",
      "fit value: 10638.770369\n",
      "iteration: 10000000\n",
      "\n",
      "Run 3 Start:\n"
     ]
    },
    {
     "name": "stderr",
     "output_type": "stream",
     "text": [
      "\r",
      " 30%|███       | 3/10 [07:03<16:26, 140.94s/it]"
     ]
    },
    {
     "name": "stdout",
     "output_type": "stream",
     "text": [
      "fit Parent: [-43.513437053972275, 31.723810409474588, 5.573131604696151, -15.132962057702303, -24.76055631674075, -32.61480703444125, -6.531765959357236, 7.741824344346157, 53.028499280951635, 8.559218958173618]\n",
      "fit value: 7824.578251\n",
      "iteration: 10000000\n",
      "\n",
      "Run 4 Start:\n"
     ]
    },
    {
     "name": "stderr",
     "output_type": "stream",
     "text": [
      "\r",
      " 40%|████      | 4/10 [09:23<14:05, 140.93s/it]"
     ]
    },
    {
     "name": "stdout",
     "output_type": "stream",
     "text": [
      "fit Parent: [12.519328831923977, 41.66816369498921, 11.21751347419559, -29.024878191464555, -23.010031144126977, 14.417479663416728, 30.434399401303573, 13.910316041837046, 21.532376662600047, 50.56131439108041]\n",
      "fit value: 7738.410193\n",
      "iteration: 10000000\n",
      "\n",
      "Run 5 Start:\n"
     ]
    },
    {
     "name": "stderr",
     "output_type": "stream",
     "text": [
      "\r",
      " 50%|█████     | 5/10 [11:44<11:44, 140.88s/it]"
     ]
    },
    {
     "name": "stdout",
     "output_type": "stream",
     "text": [
      "fit Parent: [-15.7366550346689, 6.930939102084881, -41.10953818186843, 62.53435339822511, -39.438743662863665, 18.741940649148344, -11.05017685520855, -8.59675231392856, 39.501832255696925, 10.803554616134539]\n",
      "fit value: 9676.016657\n",
      "iteration: 10000000\n",
      "\n",
      "Run 6 Start:\n"
     ]
    },
    {
     "name": "stderr",
     "output_type": "stream",
     "text": [
      "\r",
      " 60%|██████    | 6/10 [14:04<09:22, 140.57s/it]"
     ]
    },
    {
     "name": "stdout",
     "output_type": "stream",
     "text": [
      "fit Parent: [4.5163775231794725, 40.74603385314432, 0.0356479762952822, 14.322644984994172, 22.361078520752393, -57.204436038839475, -36.24519091828378, -9.313550678021057, 51.81390228662592, 29.283084004134746]\n",
      "fit value: 10600.777276\n",
      "iteration: 10000000\n",
      "\n",
      "Run 7 Start:\n"
     ]
    },
    {
     "name": "stderr",
     "output_type": "stream",
     "text": [
      "\r",
      " 70%|███████   | 7/10 [16:25<07:02, 140.80s/it]"
     ]
    },
    {
     "name": "stdout",
     "output_type": "stream",
     "text": [
      "fit Parent: [25.25802122382695, 3.429895240525819, -28.172060715740123, -34.79165953576626, 29.303805423403958, -2.214743866705729, -48.156224492842284, -21.098568710151962, 14.431937258203277, -27.027532937162054]\n",
      "fit value: 7220.414407\n",
      "iteration: 10000000\n",
      "\n",
      "Run 8 Start:\n"
     ]
    },
    {
     "name": "stderr",
     "output_type": "stream",
     "text": [
      "\r",
      " 80%|████████  | 8/10 [18:48<04:42, 141.29s/it]"
     ]
    },
    {
     "name": "stdout",
     "output_type": "stream",
     "text": [
      "fit Parent: [-14.900128573243169, 14.248950973770615, -59.963963429285016, 14.534517986120292, -6.835007370831573, 19.907002449655714, 15.453553162203931, -55.61218064875698, -31.870870142972436, 33.27033773832833]\n",
      "fit value: 10129.176310\n",
      "iteration: 10000000\n",
      "\n",
      "Run 9 Start:\n"
     ]
    },
    {
     "name": "stderr",
     "output_type": "stream",
     "text": [
      "\r",
      " 90%|█████████ | 9/10 [21:09<02:21, 141.27s/it]"
     ]
    },
    {
     "name": "stdout",
     "output_type": "stream",
     "text": [
      "fit Parent: [24.836325058763155, 15.588128056298736, -33.21675968175986, 5.322247983326184, -10.135886042006414, 19.67172296383272, 61.15918132139502, 17.93124444009427, -29.1765418542896, -27.135677631768775]\n",
      "fit value: 8130.815678\n",
      "iteration: 10000000\n",
      "\n",
      "Run 10 Start:\n"
     ]
    },
    {
     "name": "stderr",
     "output_type": "stream",
     "text": [
      "100%|██████████| 10/10 [23:29<00:00, 140.97s/it]"
     ]
    },
    {
     "name": "stdout",
     "output_type": "stream",
     "text": [
      "fit Parent: [21.18726322291834, -8.789115711466765, -51.51641048288635, -14.684211528594902, -26.6588422134307, -6.745075557090567, 14.703270422951567, -0.8503059320130038, 15.824225027065221, -25.862646370122782]\n",
      "fit value: 5288.096964\n",
      "iteration: 10000000\n"
     ]
    },
    {
     "name": "stderr",
     "output_type": "stream",
     "text": [
      "\n"
     ]
    }
   ],
   "source": [
    "for i in tqdm(range(10)):\n",
    "    print(\"\\nRun %d Start:\" % (i+1))\n",
    "    func = class_OneOne(0.01)\n",
    "    func.Minimization()\n",
    "    print(\"fit Parent: %s\" % func.result)\n",
    "    print(\"fit value: %.6f\" % func.result_fit)\n",
    "    print(\"iteration: %d\" % func.time)"
   ]
  },
  {
   "cell_type": "code",
   "execution_count": 4,
   "metadata": {},
   "outputs": [],
   "source": [
    "#  sigma = 0.1"
   ]
  },
  {
   "cell_type": "code",
   "execution_count": 5,
   "metadata": {},
   "outputs": [
    {
     "name": "stderr",
     "output_type": "stream",
     "text": [
      "\r",
      "  0%|          | 0/10 [00:00<?, ?it/s]"
     ]
    },
    {
     "name": "stdout",
     "output_type": "stream",
     "text": [
      "\n",
      "Run 1 Start:\n"
     ]
    },
    {
     "name": "stderr",
     "output_type": "stream",
     "text": [
      "\r",
      " 10%|█         | 1/10 [02:20<21:02, 140.31s/it]"
     ]
    },
    {
     "name": "stdout",
     "output_type": "stream",
     "text": [
      "fit Parent: [-17.299793025548155, -0.33048485206428835, 36.19782236381344, 4.2773544869887585, -27.81851063955257, 46.48245014218891, 22.15282765303731, -25.532446954200037, -10.299424705768292, -17.563677555769775]\n",
      "fit value: 6119.672409\n",
      "iteration: 10000000\n",
      "\n",
      "Run 2 Start:\n"
     ]
    },
    {
     "name": "stderr",
     "output_type": "stream",
     "text": [
      "\r",
      " 20%|██        | 2/10 [04:41<18:44, 140.54s/it]"
     ]
    },
    {
     "name": "stdout",
     "output_type": "stream",
     "text": [
      "fit Parent: [-46.40865109266985, -9.973977589228529, -15.069904229896476, 16.09098949933433, -28.388536373796125, -16.921208036351373, -19.53808243664363, -13.994564694684392, 11.376796989018477, 6.742316519911521]\n",
      "fit value: 4583.976209\n",
      "iteration: 10000000\n",
      "\n",
      "Run 3 Start:\n"
     ]
    },
    {
     "name": "stderr",
     "output_type": "stream",
     "text": [
      "\r",
      " 30%|███       | 3/10 [07:02<16:24, 140.69s/it]"
     ]
    },
    {
     "name": "stdout",
     "output_type": "stream",
     "text": [
      "fit Parent: [9.714132257076606, -6.8853388795172945, -10.24223565437774, 10.47359243170615, -13.290815324195071, -1.0342395035959417, -12.825614009457716, -1.207893542273466, 14.449255662649604, -17.638531467410363]\n",
      "fit value: 1219.941373\n",
      "iteration: 10000000\n",
      "\n",
      "Run 4 Start:\n"
     ]
    },
    {
     "name": "stderr",
     "output_type": "stream",
     "text": [
      "\r",
      " 40%|████      | 4/10 [09:23<14:04, 140.67s/it]"
     ]
    },
    {
     "name": "stdout",
     "output_type": "stream",
     "text": [
      "fit Parent: [20.813376876842764, 25.360365794039257, -42.285937883277434, 0.4434441901878466, -4.185198461497514, 39.58171620636361, -3.9670284695543403, -8.985884168393406, 33.22581266388711, -46.67107481399889]\n",
      "fit value: 7827.497420\n",
      "iteration: 10000000\n",
      "\n",
      "Run 5 Start:\n"
     ]
    },
    {
     "name": "stderr",
     "output_type": "stream",
     "text": [
      "\r",
      " 50%|█████     | 5/10 [11:43<11:43, 140.61s/it]"
     ]
    },
    {
     "name": "stdout",
     "output_type": "stream",
     "text": [
      "fit Parent: [10.024505525807578, -27.202866102034072, 50.94484796098433, 1.189381487508191, 76.45500425510812, 16.933180052691608, -15.231506029876522, 10.940474805517624, -25.39130340944057, 33.06456188092213]\n",
      "fit value: 11659.055366\n",
      "iteration: 10000000\n",
      "\n",
      "Run 6 Start:\n"
     ]
    },
    {
     "name": "stderr",
     "output_type": "stream",
     "text": [
      "\r",
      " 60%|██████    | 6/10 [14:04<09:22, 140.74s/it]"
     ]
    },
    {
     "name": "stdout",
     "output_type": "stream",
     "text": [
      "fit Parent: [65.42309838222843, -23.100222203441202, 4.254181632905739, -27.934296817116945, -23.133172154548156, -29.252643934948487, -18.858736045198956, -9.271466054287316, 19.773825574360508, 0.6056036551115649]\n",
      "fit value: 7836.068841\n",
      "iteration: 10000000\n",
      "\n",
      "Run 7 Start:\n"
     ]
    },
    {
     "name": "stderr",
     "output_type": "stream",
     "text": [
      "\r",
      " 70%|███████   | 7/10 [16:27<07:03, 141.30s/it]"
     ]
    },
    {
     "name": "stdout",
     "output_type": "stream",
     "text": [
      "fit Parent: [5.205668697971647, -13.889151089097473, 27.055913396836576, 50.42699131355741, 63.31766134153082, -34.52082774677914, 50.11652210262655, 30.00185270236447, 15.74826887334105, 26.207075232449874]\n",
      "fit value: 13042.320911\n",
      "iteration: 10000000\n",
      "\n",
      "Run 8 Start:\n"
     ]
    },
    {
     "name": "stderr",
     "output_type": "stream",
     "text": [
      "\r",
      " 80%|████████  | 8/10 [18:49<04:42, 141.49s/it]"
     ]
    },
    {
     "name": "stdout",
     "output_type": "stream",
     "text": [
      "fit Parent: [-45.0775585411298, -15.278952623948069, -40.81603502014136, -3.4424907427447025, 3.3516120306593087, -25.614929612788327, -5.061813699454814, 4.911460399770887, 51.98076197612913, -10.97521198946554]\n",
      "fit value: 7482.789352\n",
      "iteration: 10000000\n",
      "\n",
      "Run 9 Start:\n"
     ]
    },
    {
     "name": "stderr",
     "output_type": "stream",
     "text": [
      "\r",
      " 90%|█████████ | 9/10 [21:11<02:21, 141.63s/it]"
     ]
    },
    {
     "name": "stdout",
     "output_type": "stream",
     "text": [
      "fit Parent: [23.67990885244661, -32.6426522400595, 29.29420184458541, 4.685853554447998, -6.493118064393958, -14.300574870323096, -39.73045107073599, -53.59246027788078, 19.788328317797568, 36.30379453228438]\n",
      "fit value: 8913.259314\n",
      "iteration: 10000000\n",
      "\n",
      "Run 10 Start:\n"
     ]
    },
    {
     "name": "stderr",
     "output_type": "stream",
     "text": [
      "100%|██████████| 10/10 [23:32<00:00, 141.26s/it]"
     ]
    },
    {
     "name": "stdout",
     "output_type": "stream",
     "text": [
      "fit Parent: [-54.372993302687895, 13.529385961121866, -20.501578662381725, -24.696663230533115, 50.205943679683706, 39.801071117603, -8.080256994580585, -23.110906344392724, 3.116074874308643, 2.828842214890103]\n",
      "fit value: 8891.585446\n",
      "iteration: 10000000\n"
     ]
    },
    {
     "name": "stderr",
     "output_type": "stream",
     "text": [
      "\n"
     ]
    }
   ],
   "source": [
    "for i in tqdm(range(10)):\n",
    "    print(\"\\nRun %d Start:\" % (i+1))\n",
    "    func = class_OneOne(0.01)\n",
    "    func.Minimization()\n",
    "    print(\"fit Parent: %s\" % func.result)\n",
    "    print(\"fit value: %.6f\" % func.result_fit)\n",
    "    print(\"iteration: %d\" % func.time)"
   ]
  },
  {
   "cell_type": "code",
   "execution_count": 6,
   "metadata": {},
   "outputs": [],
   "source": [
    "#  sigma = 1"
   ]
  },
  {
   "cell_type": "code",
   "execution_count": 7,
   "metadata": {},
   "outputs": [
    {
     "name": "stderr",
     "output_type": "stream",
     "text": [
      "\r",
      "  0%|          | 0/10 [00:00<?, ?it/s]"
     ]
    },
    {
     "name": "stdout",
     "output_type": "stream",
     "text": [
      "\n",
      "Run 1 Start:\n"
     ]
    },
    {
     "name": "stderr",
     "output_type": "stream",
     "text": [
      "\r",
      " 10%|█         | 1/10 [02:18<20:48, 138.68s/it]"
     ]
    },
    {
     "name": "stdout",
     "output_type": "stream",
     "text": [
      "fit Parent: [-44.77827773896512, 11.383359888837509, 4.026586846199898, 2.725546728504964, -4.319198677450603, 14.836931999867119, -7.429851436005967, 4.175162502608238, 22.731504192553032, -13.699666954903448]\n",
      "fit value: 3174.143906\n",
      "iteration: 10000000\n",
      "\n",
      "Run 2 Start:\n"
     ]
    },
    {
     "name": "stderr",
     "output_type": "stream",
     "text": [
      "\r",
      " 20%|██        | 2/10 [04:38<18:32, 139.08s/it]"
     ]
    },
    {
     "name": "stdout",
     "output_type": "stream",
     "text": [
      "fit Parent: [-43.19087834593042, 3.8013897099184972, -24.484046343388716, 49.25266563139553, 51.61656473166324, -6.570231705670928, -70.14146635656579, 30.041701928945947, -27.306151601800618, -15.558664468572427]\n",
      "fit value: 14422.660945\n",
      "iteration: 10000000\n",
      "\n",
      "Run 3 Start:\n"
     ]
    },
    {
     "name": "stderr",
     "output_type": "stream",
     "text": [
      "\r",
      " 30%|███       | 3/10 [06:57<16:13, 139.08s/it]"
     ]
    },
    {
     "name": "stdout",
     "output_type": "stream",
     "text": [
      "fit Parent: [57.08648932227755, 17.994032458339785, -6.310304029391174, 20.309876425905173, 25.990232000873313, -12.600910660567518, 0.6897328087252305, -15.512502899227062, -26.857740033189522, 17.20242404091705]\n",
      "fit value: 6127.613664\n",
      "iteration: 10000000\n",
      "\n",
      "Run 4 Start:\n"
     ]
    },
    {
     "name": "stderr",
     "output_type": "stream",
     "text": [
      "\r",
      " 40%|████      | 4/10 [09:18<13:57, 139.53s/it]"
     ]
    },
    {
     "name": "stdout",
     "output_type": "stream",
     "text": [
      "fit Parent: [44.606233043194656, -17.863982096747172, 13.65895020325967, -16.893628667408535, -1.7348628833218447, -1.2078333526719258, 42.21131653376864, -33.02025624603154, -6.285487247483792, -21.32040097550909]\n",
      "fit value: 6151.467517\n",
      "iteration: 10000000\n",
      "\n",
      "Run 5 Start:\n"
     ]
    },
    {
     "name": "stderr",
     "output_type": "stream",
     "text": [
      "\r",
      " 50%|█████     | 5/10 [11:31<11:27, 137.51s/it]"
     ]
    },
    {
     "name": "stdout",
     "output_type": "stream",
     "text": [
      "fit Parent: [0.36162747239937326, 28.488814465492215, 35.28987942213922, -51.875273035502914, 34.02073849633754, 23.849845537284477, 17.455603886991938, -20.37433545667771, 38.49388316859419, -54.00413776201238]\n",
      "fit value: 11592.426235\n",
      "iteration: 10000000\n",
      "\n",
      "Run 6 Start:\n"
     ]
    },
    {
     "name": "stderr",
     "output_type": "stream",
     "text": [
      "\r",
      " 60%|██████    | 6/10 [13:42<09:02, 135.70s/it]"
     ]
    },
    {
     "name": "stdout",
     "output_type": "stream",
     "text": [
      "fit Parent: [-60.76560729942829, -27.03071154883771, -8.79461236835861, -0.29487295451129275, -8.356787526152953, -10.675377918043038, 34.45144961023572, 8.510928250169735, 16.22920716441337, 22.748326272490733]\n",
      "fit value: 6724.561939\n",
      "iteration: 10000000\n",
      "\n",
      "Run 7 Start:\n"
     ]
    },
    {
     "name": "stderr",
     "output_type": "stream",
     "text": [
      "\r",
      " 70%|███████   | 7/10 [15:55<06:44, 134.99s/it]"
     ]
    },
    {
     "name": "stdout",
     "output_type": "stream",
     "text": [
      "fit Parent: [-25.97443665718358, 32.96807019913794, -35.60635636437495, -19.987672041259415, 42.11193359847575, -45.64205423416522, -5.51060189386254, -47.62326925435155, 33.85130963818456, 29.6394099078467]\n",
      "fit value: 11608.245017\n",
      "iteration: 10000000\n",
      "\n",
      "Run 8 Start:\n"
     ]
    },
    {
     "name": "stderr",
     "output_type": "stream",
     "text": [
      "\r",
      " 80%|████████  | 8/10 [18:07<04:27, 133.96s/it]"
     ]
    },
    {
     "name": "stdout",
     "output_type": "stream",
     "text": [
      "fit Parent: [22.73478485590087, -5.520389781478385, 6.487025936863664, -40.439339112790634, 17.882475832364904, 20.29309715762787, 6.006961164801109, -0.9062534104010141, 4.492103393126102, 46.85597851825477]\n",
      "fit value: 5208.926127\n",
      "iteration: 10000000\n",
      "\n",
      "Run 9 Start:\n"
     ]
    },
    {
     "name": "stderr",
     "output_type": "stream",
     "text": [
      "\r",
      " 90%|█████████ | 9/10 [20:19<02:13, 133.34s/it]"
     ]
    },
    {
     "name": "stdout",
     "output_type": "stream",
     "text": [
      "fit Parent: [8.53861666957194, 9.628380512939838, -3.431107447667282, -7.064121730091552, 28.103654102214236, 7.325223051137933, 2.2126814535780044, -11.961422162599955, -4.281014679193205, 23.722039012400792]\n",
      "fit value: 1799.796068\n",
      "iteration: 10000000\n",
      "\n",
      "Run 10 Start:\n"
     ]
    },
    {
     "name": "stderr",
     "output_type": "stream",
     "text": [
      "100%|██████████| 10/10 [22:30<00:00, 135.01s/it]"
     ]
    },
    {
     "name": "stdout",
     "output_type": "stream",
     "text": [
      "fit Parent: [-11.794834749456244, -15.923168991153181, -0.8665450690664404, -37.58577838646378, 73.51798448964246, -18.380551391649725, 5.953574159171455, 26.64552302390276, -11.77986486773234, 7.658788175330146]\n",
      "fit value: 8491.696983\n",
      "iteration: 10000000\n"
     ]
    },
    {
     "name": "stderr",
     "output_type": "stream",
     "text": [
      "\n"
     ]
    }
   ],
   "source": [
    "for i in tqdm(range(10)):\n",
    "    print(\"\\nRun %d Start:\" % (i+1))\n",
    "    func = class_OneOne(0.01)\n",
    "    func.Minimization()\n",
    "    print(\"fit Parent: %s\" % func.result)\n",
    "    print(\"fit value: %.6f\" % func.result_fit)\n",
    "    print(\"iteration: %d\" % func.time)"
   ]
  }
 ],
 "metadata": {
  "kernelspec": {
   "display_name": "Python 3",
   "language": "python",
   "name": "python3"
  },
  "language_info": {
   "codemirror_mode": {
    "name": "ipython",
    "version": 3
   },
   "file_extension": ".py",
   "mimetype": "text/x-python",
   "name": "python",
   "nbconvert_exporter": "python",
   "pygments_lexer": "ipython3",
   "version": "3.7.6"
  }
 },
 "nbformat": 4,
 "nbformat_minor": 2
}
