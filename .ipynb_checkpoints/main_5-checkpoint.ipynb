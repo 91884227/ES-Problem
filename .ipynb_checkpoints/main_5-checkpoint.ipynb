{
 "cells": [
  {
   "cell_type": "markdown",
   "metadata": {},
   "source": [
    "\n",
    "# import tool"
   ]
  },
  {
   "cell_type": "code",
   "execution_count": 1,
   "metadata": {},
   "outputs": [],
   "source": [
    "import pandas as pd\n",
    "import numpy as np\n",
    "from tqdm import tqdm"
   ]
  },
  {
   "cell_type": "markdown",
   "metadata": {},
   "source": [
    "# import self-define tool"
   ]
  },
  {
   "cell_type": "code",
   "execution_count": 2,
   "metadata": {},
   "outputs": [],
   "source": [
    "from module.UncorrelatedMutation import class_UncorrelatedMutation"
   ]
  },
  {
   "cell_type": "markdown",
   "metadata": {},
   "source": [
    "# sigma = 0.01"
   ]
  },
  {
   "cell_type": "code",
   "execution_count": 3,
   "metadata": {},
   "outputs": [
    {
     "name": "stderr",
     "output_type": "stream",
     "text": [
      " 40%|█████████████████████████████████▏                                                 | 4/10 [00:00<00:00, 28.25it/s]"
     ]
    },
    {
     "name": "stdout",
     "output_type": "stream",
     "text": [
      "\n",
      "Run 1 Start:\n",
      "fit Parent: [0.04827932909795922, 0.010512677347600962, -0.008765561872342332, -0.008769017667097277, -0.00502842210976704, -0.007316820831302129, -0.004309570372098684, 0.03622673548591335, -0.005113925190595002, 0.023123808933433715]\n",
      "fit value: 0.004566\n",
      "iteration: 833\n",
      "\n",
      "Run 2 Start:\n",
      "fit Parent: [-0.013037741977472204, 0.054915158735543104, 0.026077368648840697, -0.011632086209204667, -0.0056656678453480165, -0.008160807690085273, -0.018027540802425215, -0.01787646990560126, 0.0028099411937095187, 0.008634017611388246]\n",
      "fit value: 0.004827\n",
      "iteration: 856\n",
      "\n",
      "Run 3 Start:\n",
      "fit Parent: [-0.02159642114314794, 0.006165501322939871, 0.008461814710280534, 0.020554720260907912, 0.034694965861026356, -0.018210538462477683, 0.005486784788107718, 0.00641124734463611, 0.013855211737803252, -0.007398965851078422]\n",
      "fit value: 0.002852\n",
      "iteration: 853\n",
      "\n",
      "Run 4 Start:\n",
      "fit Parent: [0.0006262131321637457, 0.02049320718071299, 0.009117125570780336, -0.0032299475805224673, 0.019294926823775396, 0.0203869583472245, 0.007542187922296941, -0.004184925467468775, 0.05090162604804074, -0.004326754453057718]\n",
      "fit value: 0.003986\n",
      "iteration: 860\n",
      "\n",
      "Run 5 Start:\n",
      "fit Parent: [-0.0009335415800758957, 0.015501188562676618, -0.007351209917634877, 0.02195511266556288, 0.009948628119734466, 0.023085050208781724, 0.009901612094110007, -0.0051767447908240075, 0.048529871040655634, -0.012087174417541886]\n",
      "fit value: 0.004035\n",
      "iteration: 800\n",
      "\n",
      "Run 6 Start:\n",
      "fit Parent: [0.00809670250925051, 0.05268118548155638, 0.006056512604756285, 0.013380569427935977, 0.020735509610318902, 0.0010520944790631988, 0.0026425434846167792, -0.027412791769889384, -0.010858422315583389, -0.009200532120550844]\n",
      "fit value: 0.004449\n",
      "iteration: 795\n",
      "\n",
      "Run 7 Start:\n"
     ]
    },
    {
     "name": "stderr",
     "output_type": "stream",
     "text": [
      "100%|██████████████████████████████████████████████████████████████████████████████████| 10/10 [00:00<00:00, 29.15it/s]"
     ]
    },
    {
     "name": "stdout",
     "output_type": "stream",
     "text": [
      "fit Parent: [0.02004161825934711, 0.037023282572241245, 0.003286340045705261, -0.0019095607703450666, -0.010861711830075263, 0.031422184136736295, 0.017956308583573027, 0.025963455857684396, 0.0016430523883264484, -0.011390187854676196]\n",
      "fit value: 0.004021\n",
      "iteration: 890\n",
      "\n",
      "Run 8 Start:\n",
      "fit Parent: [-0.02574892493518291, -0.016635552649328245, 0.007395728107566458, 0.012180746280410736, 0.01198612881553674, 0.03903899149118053, -0.020195175439911808, 0.019354244784357322, 0.01519903904686486, 0.009019949438042527]\n",
      "fit value: 0.003905\n",
      "iteration: 829\n",
      "\n",
      "Run 9 Start:\n",
      "fit Parent: [0.02842986245751701, -0.007668310615692394, 0.02386604620822657, -0.003989758472555659, 0.008953103152755545, 0.056296351103645295, 0.0014939211285920323, 0.014441232331808482, -0.004321475716125614, -0.0070340582931233565]\n",
      "fit value: 0.004981\n",
      "iteration: 866\n",
      "\n",
      "Run 10 Start:\n",
      "fit Parent: [-0.014238004120898705, -0.02391131636634694, 0.00029302465532043964, -0.006873302986112393, 0.004456393157040156, 0.04658028696805047, 0.009893781505325432, 0.01778007778168548, 0.03201879678288315, -0.0014800540829707012]\n",
      "fit value: 0.004453\n",
      "iteration: 835\n"
     ]
    },
    {
     "name": "stderr",
     "output_type": "stream",
     "text": [
      "\n"
     ]
    }
   ],
   "source": [
    "for i in tqdm(range(10)):\n",
    "    print(\"\\nRun %d Start:\" % (i+1))\n",
    "    func = class_UncorrelatedMutation(0.01)\n",
    "    func.Minimization()\n",
    "    print(\"fit Parent: %s\" % func.result)\n",
    "    print(\"fit value: %.6f\" % func.result_fit)\n",
    "    print(\"iteration: %d\" % func.time)"
   ]
  },
  {
   "cell_type": "code",
   "execution_count": 4,
   "metadata": {},
   "outputs": [],
   "source": [
    "# sigma = 0.1"
   ]
  },
  {
   "cell_type": "code",
   "execution_count": null,
   "metadata": {},
   "outputs": [
    {
     "name": "stderr",
     "output_type": "stream",
     "text": [
      "\r",
      "  0%|                                                                                           | 0/10 [00:00<?, ?it/s]"
     ]
    },
    {
     "name": "stdout",
     "output_type": "stream",
     "text": [
      "\n",
      "Run 1 Start:\n"
     ]
    },
    {
     "name": "stderr",
     "output_type": "stream",
     "text": [
      "\r",
      " 10%|████████▎                                                                          | 1/10 [00:09<01:27,  9.69s/it]"
     ]
    },
    {
     "name": "stdout",
     "output_type": "stream",
     "text": [
      "fit Parent: [-0.0014781088896675355, 0.03575153340052768, 0.005284204913768353, -0.011250924538546925, 0.0385093379654536, 0.017107327301304695, -0.01723533987178236, 0.012707877289393524, -0.029493326517867353, 0.016750296080908153]\n",
      "fit value: 0.004819\n",
      "iteration: 255765\n",
      "\n",
      "Run 2 Start:\n"
     ]
    },
    {
     "name": "stderr",
     "output_type": "stream",
     "text": [
      "\r",
      " 20%|████████████████▌                                                                  | 2/10 [00:27<01:35, 11.98s/it]"
     ]
    },
    {
     "name": "stdout",
     "output_type": "stream",
     "text": [
      "fit Parent: [0.006969628906479351, 0.002706766307478828, 0.03538617043819639, -0.035578874178727585, 0.016143850338818308, -0.0034230119663840926, -0.016846866609598752, 0.03187132370106342, -0.006590042041860858, 0.009974313876149395]\n",
      "fit value: 0.004289\n",
      "iteration: 483395\n",
      "\n",
      "Run 3 Start:\n"
     ]
    },
    {
     "name": "stderr",
     "output_type": "stream",
     "text": [
      "\r",
      " 30%|████████████████████████▉                                                          | 3/10 [00:35<01:15, 10.86s/it]"
     ]
    },
    {
     "name": "stdout",
     "output_type": "stream",
     "text": [
      "fit Parent: [0.007429172551883134, 0.030511778338779036, 0.006328421091777675, -0.013032608567170811, 0.03402174062209791, -0.034936646533856947, -0.006645939174326994, 0.014158097678889486, -0.0014472851654776988, 0.02855315164972052]\n",
      "fit value: 0.004636\n",
      "iteration: 220656\n",
      "\n",
      "Run 4 Start:\n"
     ]
    },
    {
     "name": "stderr",
     "output_type": "stream",
     "text": [
      "\r",
      " 40%|█████████████████████████████████▏                                                 | 4/10 [00:43<01:00, 10.03s/it]"
     ]
    },
    {
     "name": "stdout",
     "output_type": "stream",
     "text": [
      "fit Parent: [-0.04042197357454388, 0.00619768552396904, -0.009910355532124713, -0.0067835496776967276, 0.007569901184148992, 0.00045074710033368715, 0.02618382646049134, -0.029791398394528663, 0.01329851889873862, -0.03243507038654402]\n",
      "fit value: 0.004676\n",
      "iteration: 202010\n",
      "\n",
      "Run 5 Start:\n"
     ]
    }
   ],
   "source": [
    "for i in tqdm(range(10)):\n",
    "    print(\"\\nRun %d Start:\" % (i+1))\n",
    "    func = class_UncorrelatedMutation(0.1)\n",
    "    func.Minimization()\n",
    "    print(\"fit Parent: %s\" % func.result)\n",
    "    print(\"fit value: %.6f\" % func.result_fit)\n",
    "    print(\"iteration: %d\" % func.time)"
   ]
  },
  {
   "cell_type": "code",
   "execution_count": null,
   "metadata": {},
   "outputs": [],
   "source": [
    "# sigma = 1"
   ]
  },
  {
   "cell_type": "code",
   "execution_count": null,
   "metadata": {},
   "outputs": [],
   "source": [
    "for i in tqdm(range(10)):\n",
    "    print(\"\\nRun %d Start:\" % (i+1))\n",
    "    func = class_UncorrelatedMutation(1)\n",
    "    func.Minimization()\n",
    "    print(\"fit Parent: %s\" % func.result)\n",
    "    print(\"fit value: %.6f\" % func.result_fit)\n",
    "    print(\"iteration: %d\" % func.time)"
   ]
  }
 ],
 "metadata": {
  "kernelspec": {
   "display_name": "Python 3",
   "language": "python",
   "name": "python3"
  },
  "language_info": {
   "codemirror_mode": {
    "name": "ipython",
    "version": 3
   },
   "file_extension": ".py",
   "mimetype": "text/x-python",
   "name": "python",
   "nbconvert_exporter": "python",
   "pygments_lexer": "ipython3",
   "version": "3.6.4"
  }
 },
 "nbformat": 4,
 "nbformat_minor": 2
}
